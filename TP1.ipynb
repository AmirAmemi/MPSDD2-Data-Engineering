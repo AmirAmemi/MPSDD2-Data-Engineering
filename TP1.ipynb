{
  "cells": [
    {
      "cell_type": "code",
      "execution_count": 3,
      "metadata": {
        "id": "Bt4NaNL0gJ9m"
      },
      "outputs": [],
      "source": [
        "# Imports\n",
        "%matplotlib inline\n",
        "import functools\n",
        "import matplotlib.pyplot as plt\n",
        "import jax\n",
        "import jax.numpy as jnp\n",
        "import jax.tree_util as tree\n",
        "import jraph\n",
        "import flax\n",
        "import haiku as hk\n",
        "import optax\n",
        "import pickle\n",
        "import numpy as onp\n",
        "import networkx as nx\n",
        "from typing import Any, Callable, Dict, List, Optional, Tuple"
      ]
    },
    {
      "cell_type": "code",
      "execution_count": 4,
      "metadata": {
        "id": "GMSfh3BPgJ6s"
      },
      "outputs": [],
      "source": [
        "def build_toy_graph()->jraph.GraphsTuple:\n",
        "#Define a four node graph, each node has a scalar as its feature.\"\n",
        "# Nodes are defined implicitly by their features.\n",
        "# We will add four nodes, each with a feature, e.g.\n",
        "# node has feature [0.],\n",
        "# node 1 has featre [2.] etc.\n",
        "# len(node_features) is the number of nodes.\n",
        "    node_features = jnp.array([[0.], [2.], [4.], [6.]])\n",
        "# We will now specify 5 directed edges connecting the nodes we defined above. # We define this with 'senders (source node indices) and receivers\n",
        "# (destination node indices).\n",
        "# For example, to add an edge from node e to node 1, we appende to senders, # and 1 to receivers.\n",
        "# We can do the same for all 5 edges:\n",
        "# 0 -> 1\n",
        "#1 -> 2\n",
        "#2 -> 0\n",
        "#3 -> 0\n",
        "# 0 -> 3\n",
        "    senders=jnp.array([0, 1, 2, 3, 0])\n",
        "    receivers=jnp.array([1, 2, 0, 0, 3])\n",
        "\n",
        "# You can optionally add edge attributes to the 5 edges.\n",
        "    edges =jnp.array([[5.], [6.], [7.], [8.], [8.]])\n",
        "\n",
        "# We then save the number of nodes and the number of edges.\n",
        "# This information is used to make running GNNS over multiple graphs\n",
        "# in a Graphs Tuple possible.\n",
        "    n_node = jnp.array([4])\n",
        "    n_edge=jnp.array([5])\n",
        "# Optionally you can add global information, such as a graph label.\n",
        "    global_context = jnp.array([[1]]) # Same feature dims as nodes and edges.\n",
        "    graph =jraph.GraphsTuple(nodes=node_features,edges=edges,senders=senders,receivers=receivers,n_node=n_node,n_edge=n_edge,globals=global_context)\n",
        "    return graph"
      ]
    },
    {
      "cell_type": "code",
      "execution_count": 5,
      "metadata": {
        "id": "YBrHozX7lFSi"
      },
      "outputs": [],
      "source": [
        "graph = build_toy_graph()"
      ]
    },
    {
      "cell_type": "code",
      "execution_count": 6,
      "metadata": {
        "colab": {
          "base_uri": "https://localhost:8080/"
        },
        "id": "HQ6dvZTIlRV_",
        "outputId": "cedf2511-d090-4644-b307-aac65f69ad75"
      },
      "outputs": [
        {
          "data": {
            "text/plain": [
              "Array([4], dtype=int32)"
            ]
          },
          "execution_count": 6,
          "metadata": {},
          "output_type": "execute_result"
        }
      ],
      "source": [
        "graph.n_node"
      ]
    },
    {
      "cell_type": "code",
      "execution_count": 7,
      "metadata": {
        "colab": {
          "base_uri": "https://localhost:8080/"
        },
        "id": "hYKcHgPhlQ6M",
        "outputId": "7466351b-8279-49a0-f65d-5fbf0ecd6c46"
      },
      "outputs": [
        {
          "data": {
            "text/plain": [
              "Array([5], dtype=int32)"
            ]
          },
          "execution_count": 7,
          "metadata": {},
          "output_type": "execute_result"
        }
      ],
      "source": [
        "graph.n_edge"
      ]
    },
    {
      "cell_type": "code",
      "execution_count": 8,
      "metadata": {
        "colab": {
          "base_uri": "https://localhost:8080/"
        },
        "id": "7YLbdnyalQ3q",
        "outputId": "5219dc05-43e7-448c-c36f-5f1eab6343f9"
      },
      "outputs": [
        {
          "data": {
            "text/plain": [
              "Array([[0.],\n",
              "       [2.],\n",
              "       [4.],\n",
              "       [6.]], dtype=float32)"
            ]
          },
          "execution_count": 8,
          "metadata": {},
          "output_type": "execute_result"
        }
      ],
      "source": [
        "graph.nodes"
      ]
    },
    {
      "cell_type": "code",
      "execution_count": 9,
      "metadata": {
        "colab": {
          "base_uri": "https://localhost:8080/"
        },
        "id": "dOdtkv_xlQx6",
        "outputId": "5065d53b-558e-43c7-b20f-d3bee30c438e"
      },
      "outputs": [
        {
          "data": {
            "text/plain": [
              "Array([0, 1, 2, 3, 0], dtype=int32)"
            ]
          },
          "execution_count": 9,
          "metadata": {},
          "output_type": "execute_result"
        }
      ],
      "source": [
        "graph.senders"
      ]
    },
    {
      "cell_type": "code",
      "execution_count": 10,
      "metadata": {
        "colab": {
          "base_uri": "https://localhost:8080/"
        },
        "id": "9jqDrat_lQvh",
        "outputId": "72ee1e02-0b57-456e-a10e-568e2701282c"
      },
      "outputs": [
        {
          "data": {
            "text/plain": [
              "Array([1, 2, 0, 0, 3], dtype=int32)"
            ]
          },
          "execution_count": 10,
          "metadata": {},
          "output_type": "execute_result"
        }
      ],
      "source": [
        "graph.receivers"
      ]
    },
    {
      "cell_type": "code",
      "execution_count": 11,
      "metadata": {
        "id": "4x10lUAYlQtm"
      },
      "outputs": [],
      "source": [
        "def convert_jraph_to_networkx_graph (jraph_graph: jraph.GraphsTuple) -> nx.Graph:\n",
        "  nodes, edges, receivers, senders,_,_,_=jraph_graph\n",
        "  nx_graph=nx.DiGraph()\n",
        "  if nodes is None:\n",
        "    for n in range(jraph_graph.n_node[0]):\n",
        "      nx_graph.add_node(n)\n",
        "  else:\n",
        "    for n in range(jraph_graph.n_node[0]):\n",
        "      nx_graph.add_node (n, node_feature=nodes[n])\n",
        "  if edges is None:\n",
        "    for e in range (jraph_graph.n_edge[0]):\n",
        "      nx_graph.add_edge(int(senders [e]), int (receivers [e]))\n",
        "  else:\n",
        "    for e in range (jraph_graph.n_edge[0]):\n",
        "      nx_graph.add_edge(\n",
        "        int (senders [e]), int (receivers [e]), edge_feature=edges[e])\n",
        "  return nx_graph\n"
      ]
    },
    {
      "cell_type": "code",
      "execution_count": 12,
      "metadata": {
        "id": "Uu13kf8qnqT5"
      },
      "outputs": [],
      "source": [
        "def draw_jraph_graph_structure (jraph_graph: jraph.GraphsTuple) -> None:\n",
        "    nx_graph = convert_jraph_to_networkx_graph (jraph_graph)\n",
        "    pos=nx.spring_layout (nx_graph)\n",
        "    nx.draw(nx_graph, pos=pos, with_labels=True, node_size=500, font_color=\"yellow\")\n"
      ]
    },
    {
      "cell_type": "code",
      "execution_count": 13,
      "metadata": {
        "colab": {
          "base_uri": "https://localhost:8080/",
          "height": 516
        },
        "id": "VdJl1-aylQq6",
        "outputId": "2466c1dc-7679-4339-8776-d445e8be2593"
      },
      "outputs": [
        {
          "data": {
            "image/png": "[encoded data removed]",
            "text/plain": [
              "<Figure size 640x480 with 1 Axes>"
            ]
          },
          "metadata": {},
          "output_type": "display_data"
        }
      ],
      "source": [
        "draw_jraph_graph_structure(graph)"
      ]
    },
    {
      "cell_type": "markdown",
      "metadata": {
        "id": "Ibz8MrrnYsIe"
      },
      "source": [
        "**Exercise: Make the necessary modifications to represent the following graph:**"
      ]
    },
    {
      "cell_type": "code",
      "execution_count": 15,
      "metadata": {
        "id": "r3cswOBgYvDV"
      },
      "outputs": [],
      "source": [
        "def build_toy_graph2() -> jraph.GraphsTuple:\n",
        "  \"\"\"Define a four node graph, each node has a scalar as its feature.\"\"\"\n",
        "  node_features = jnp.array([[0.],[2.],[4.],[6.],[8.],[10.]])\n",
        "\n",
        "  #5 directed edges connecting the 4 nodes\n",
        "  # 0 -> 1\n",
        "  # 1 -> 2\n",
        "  # 2 -> 0\n",
        "  # 3 -> 0\n",
        "  # 0 -> 3\n",
        "  senders = jnp.array([0,0,1,1,2,3,4,5])\n",
        "  receivers = jnp.array([1,2,1,3,0,4,2,0])\n",
        "\n",
        "  edges = jnp.array([[3.],[4.],[5.],[6.], [7.], [8.], [8.]])\n",
        "\n",
        "  #save number of edges and nodes\n",
        "  n_node = jnp.array([6])\n",
        "  n_edge = jnp.array([8])\n",
        "\n",
        "  global_context= jnp.array([1])\n",
        "  graph =jraph.GraphsTuple(\n",
        "      nodes=node_features,\n",
        "      edges=edges,\n",
        "      senders=senders,\n",
        "      receivers=receivers,\n",
        "      n_node=n_node,\n",
        "      n_edge=n_edge,\n",
        "      globals=global_context\n",
        "      )\n",
        "  return graph\n",
        "\n",
        "#a graph is represented with a GraphsTuple object"
      ]
    },
    {
      "cell_type": "code",
      "execution_count": 16,
      "metadata": {
        "id": "BCoN90w6Yvpq"
      },
      "outputs": [],
      "source": [
        "graph2 = build_toy_graph2()"
      ]
    },
    {
      "cell_type": "code",
      "execution_count": 23,
      "metadata": {},
      "outputs": [
        {
          "data": {
            "image/png": "[encoded data removed]",
            "text/plain": [
              "<Figure size 640x480 with 1 Axes>"
            ]
          },
          "metadata": {},
          "output_type": "display_data"
        }
      ],
      "source": [
        "# use networkx lib, has functions for drawing graphs\n",
        "\n",
        "def convert_jraph_to_networkx_graph(jraph_graph: jraph.GraphsTuple) -> nx.Graph:\n",
        "  nodes, edges , receivers, senders, _, _, _ = jraph_graph\n",
        "  nx_graph = nx.DiGraph()\n",
        "  if nodes is None:\n",
        "    for n in range(jraph_graph.n_nodes[0]):\n",
        "      nx_graph.add_node(n)\n",
        "  else:\n",
        "    for n in range(jraph_graph.n_node[0]):\n",
        "      nx_graph.add_node(n, node_features=nodes[n])\n",
        "  if edges is None:\n",
        "    for e in range(jraph_graph.n_edge[0]):\n",
        "      nx_graph.add_edge(int(senders[e]), int(receivers[e]))\n",
        "  else:\n",
        "    for e in range(jraph_graph.n_edge[0]):\n",
        "      nx_graph.add_edge(\n",
        "          int(senders[e]), int(receivers[e]), edge_feature=edges[e])\n",
        "  return nx_graph\n",
        "\n",
        "def draw_jraph_graph_stucture(jraph_graph: jraph.GraphsTuple) -> None:\n",
        "  nx_graph = convert_jraph_to_networkx_graph(jraph_graph)\n",
        "  pos= nx.spring_layout(nx_graph)\n",
        "  nx.draw(\n",
        "      nx_graph, pos=pos, with_labels=True, node_size=500, font_color='yellow')\n",
        "draw_jraph_graph_stucture(graph2)"
      ]
    }
  ],
  "metadata": {
    "colab": {
      "provenance": []
    },
    "kernelspec": {
      "display_name": "Python 3",
      "name": "python3"
    },
    "language_info": {
      "codemirror_mode": {
        "name": "ipython",
        "version": 3
      },
      "file_extension": ".py",
      "mimetype": "text/x-python",
      "name": "python",
      "nbconvert_exporter": "python",
      "pygments_lexer": "ipython3",
      "version": "3.11.1"
    }
  },
  "nbformat": 4,
  "nbformat_minor": 0
}
